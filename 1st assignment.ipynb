{
 "cells": [
  {
   "cell_type": "markdown",
   "id": "79a78a26-78cb-445a-911a-7ad355171281",
   "metadata": {},
   "source": [
    "#### string"
   ]
  },
  {
   "cell_type": "code",
   "execution_count": null,
   "id": "7d5aebbe-b83a-411d-b691-02be901fc91d",
   "metadata": {},
   "outputs": [],
   "source": [
    "Q1 "
   ]
  },
  {
   "cell_type": "code",
   "execution_count": 5,
   "id": "0ddad3a7-1c02-477f-8804-8fc2667232c1",
   "metadata": {},
   "outputs": [
    {
     "data": {
      "text/plain": [
       "'hello world'"
      ]
     },
     "execution_count": 5,
     "metadata": {},
     "output_type": "execute_result"
    }
   ],
   "source": [
    "\"hello world\""
   ]
  },
  {
   "cell_type": "code",
   "execution_count": 6,
   "id": "642e5404-3bf5-45e8-934e-f4f7e65d5282",
   "metadata": {},
   "outputs": [
    {
     "data": {
      "text/plain": [
       "str"
      ]
     },
     "execution_count": 6,
     "metadata": {},
     "output_type": "execute_result"
    }
   ],
   "source": [
    "type(\"hwllo world\")"
   ]
  },
  {
   "cell_type": "markdown",
   "id": "132336b7-a7d0-4506-ad40-f491d3fae1dc",
   "metadata": {},
   "source": [
    "#### list"
   ]
  },
  {
   "cell_type": "code",
   "execution_count": 7,
   "id": "42f8f504-5593-47d9-a73c-6edc1256107c",
   "metadata": {},
   "outputs": [],
   "source": [
    "l = [1,2,3,4, \"hello\" , True, 8+7j , 12.32]"
   ]
  },
  {
   "cell_type": "code",
   "execution_count": 8,
   "id": "340515b6-47c3-4c86-a441-cfa60aee2b2a",
   "metadata": {},
   "outputs": [
    {
     "data": {
      "text/plain": [
       "list"
      ]
     },
     "execution_count": 8,
     "metadata": {},
     "output_type": "execute_result"
    }
   ],
   "source": [
    "type(l)"
   ]
  },
  {
   "cell_type": "code",
   "execution_count": 9,
   "id": "7d43ee26-72d6-4a79-9a20-5ae0230f3adf",
   "metadata": {},
   "outputs": [],
   "source": [
    "a = 12.3"
   ]
  },
  {
   "cell_type": "code",
   "execution_count": 10,
   "id": "e9104d10-bf73-4ae8-b8d1-a6ea6b287706",
   "metadata": {},
   "outputs": [
    {
     "data": {
      "text/plain": [
       "float"
      ]
     },
     "execution_count": 10,
     "metadata": {},
     "output_type": "execute_result"
    }
   ],
   "source": [
    "type(a)"
   ]
  },
  {
   "cell_type": "code",
   "execution_count": 11,
   "id": "53eff5a9-f955-4db9-95c5-8fb7edd74ecc",
   "metadata": {},
   "outputs": [],
   "source": [
    "t = (1,2,3,4, \"hello\" , 21.34, 9+1j)"
   ]
  },
  {
   "cell_type": "code",
   "execution_count": 12,
   "id": "740860b6-d53e-43bf-b45f-2595b19b2ce4",
   "metadata": {},
   "outputs": [
    {
     "data": {
      "text/plain": [
       "tuple"
      ]
     },
     "execution_count": 12,
     "metadata": {},
     "output_type": "execute_result"
    }
   ],
   "source": [
    "type(t)"
   ]
  },
  {
   "cell_type": "code",
   "execution_count": null,
   "id": "aa65b668-971f-4f67-9e33-144da8845cc1",
   "metadata": {},
   "outputs": [],
   "source": [
    "Q2"
   ]
  },
  {
   "cell_type": "code",
   "execution_count": null,
   "id": "eaa54c1b-4c19-40bc-bebc-2a9441bcf29a",
   "metadata": {},
   "outputs": [],
   "source": [
    "str"
   ]
  },
  {
   "cell_type": "code",
   "execution_count": null,
   "id": "21230ac4-962a-4016-aaf3-a3eaac3de5a5",
   "metadata": {},
   "outputs": [],
   "source": [
    "str"
   ]
  },
  {
   "cell_type": "code",
   "execution_count": null,
   "id": "d85d0e25-1c00-4be6-aa04-003236a0a79a",
   "metadata": {},
   "outputs": [],
   "source": [
    "list"
   ]
  },
  {
   "cell_type": "code",
   "execution_count": null,
   "id": "c17c6b47-f8f2-4169-a015-aa0a836e163f",
   "metadata": {},
   "outputs": [],
   "source": [
    "float"
   ]
  },
  {
   "cell_type": "code",
   "execution_count": null,
   "id": "bf8215c6-e2f7-451e-ad9c-2cb38b67c287",
   "metadata": {},
   "outputs": [],
   "source": [
    "/ is a division operator"
   ]
  },
  {
   "cell_type": "code",
   "execution_count": 21,
   "id": "d4ea7e86-3eb7-457c-8efc-c1eac3e4c811",
   "metadata": {},
   "outputs": [],
   "source": [
    "a = 16"
   ]
  },
  {
   "cell_type": "code",
   "execution_count": 22,
   "id": "d0f3b491-861e-44c0-991d-6d004010ef21",
   "metadata": {},
   "outputs": [],
   "source": [
    "b = 2"
   ]
  },
  {
   "cell_type": "code",
   "execution_count": 23,
   "id": "3be5ae35-3d26-4ee3-b4c4-67847c3d0c9e",
   "metadata": {},
   "outputs": [
    {
     "data": {
      "text/plain": [
       "8.0"
      ]
     },
     "execution_count": 23,
     "metadata": {},
     "output_type": "execute_result"
    }
   ],
   "source": [
    "a/b"
   ]
  },
  {
   "cell_type": "code",
   "execution_count": null,
   "id": "f75ed868-6537-4262-b9f6-b846a51f47a0",
   "metadata": {},
   "outputs": [],
   "source": [
    "% is a sign of modulus operator"
   ]
  },
  {
   "cell_type": "code",
   "execution_count": 24,
   "id": "2ae2ebb5-5770-49a3-996d-02668971b519",
   "metadata": {},
   "outputs": [
    {
     "data": {
      "text/plain": [
       "0"
      ]
     },
     "execution_count": 24,
     "metadata": {},
     "output_type": "execute_result"
    }
   ],
   "source": [
    "a%b"
   ]
  },
  {
   "cell_type": "code",
   "execution_count": null,
   "id": "3082a9cd-8329-4153-80e5-b3a3f3b1bfbc",
   "metadata": {},
   "outputs": [],
   "source": [
    "// is a sig of floor division operator"
   ]
  },
  {
   "cell_type": "code",
   "execution_count": 25,
   "id": "b02adc61-8918-420e-850e-fd64582f2d0e",
   "metadata": {},
   "outputs": [
    {
     "data": {
      "text/plain": [
       "8"
      ]
     },
     "execution_count": 25,
     "metadata": {},
     "output_type": "execute_result"
    }
   ],
   "source": [
    "a//b"
   ]
  },
  {
   "cell_type": "code",
   "execution_count": null,
   "id": "fa7e4b6e-a33d-4d1f-9da0-df938a77da63",
   "metadata": {},
   "outputs": [],
   "source": [
    "**  is a sign of power operator"
   ]
  },
  {
   "cell_type": "code",
   "execution_count": 26,
   "id": "acf00b84-df96-46bf-b498-abbb46516d4d",
   "metadata": {},
   "outputs": [
    {
     "data": {
      "text/plain": [
       "8"
      ]
     },
     "execution_count": 26,
     "metadata": {},
     "output_type": "execute_result"
    }
   ],
   "source": [
    "2**3"
   ]
  },
  {
   "cell_type": "code",
   "execution_count": 2,
   "id": "b75649a8-634d-4b9d-8ef4-80a251893958",
   "metadata": {},
   "outputs": [],
   "source": [
    "l1 = [1,2,3, 12.345,  'hello' , \"good\", 1+2j, False, (1,2,3), {\"key\":\"value\"}, 32.2, False]"
   ]
  },
  {
   "cell_type": "code",
   "execution_count": 3,
   "id": "731261c1-1deb-402f-aa3c-516e37059f24",
   "metadata": {},
   "outputs": [
    {
     "name": "stdout",
     "output_type": "stream",
     "text": [
      "1\n",
      "2\n",
      "3\n",
      "12.345\n",
      "hello\n",
      "good\n",
      "(1+2j)\n",
      "False\n",
      "(1, 2, 3)\n",
      "{'key': 'value'}\n",
      "32.2\n",
      "False\n"
     ]
    }
   ],
   "source": [
    "for i in l1:\n",
    "    print(i)"
   ]
  },
  {
   "cell_type": "code",
   "execution_count": null,
   "id": "a38aa244-6c5b-449c-9203-ead06890f7bb",
   "metadata": {},
   "outputs": [],
   "source": [
    "Q 5 i was not able to do that"
   ]
  },
  {
   "cell_type": "code",
   "execution_count": 4,
   "id": "acb5992e-e629-4fd7-a804-bbe264aeaf01",
   "metadata": {},
   "outputs": [],
   "source": [
    "l2 = [2,4,6,8,12,14,16,18,20,22,23,24,25,26,27,28,29,223,234,213,21,225,233,45,31]"
   ]
  },
  {
   "cell_type": "code",
   "execution_count": 7,
   "id": "0308318c-188c-486e-aba4-1a46fbaa9039",
   "metadata": {},
   "outputs": [
    {
     "name": "stdout",
     "output_type": "stream",
     "text": [
      "num is divisible by 3\n",
      "num is divisible by 3\n",
      "num is divisible by 3\n",
      "num is divisible by 3\n",
      "num is divisible by 3\n",
      "num is divisible by 3\n",
      "num is divisible by 3\n",
      "num is divisible by 3\n",
      "num is divisible by 3\n",
      "num is divisible by 3\n",
      "num is not divisible\n"
     ]
    }
   ],
   "source": [
    "for num in l2:\n",
    "    if num % 3 ==0:\n",
    "        print (\"num is divisible by 3\")\n",
    "else:\n",
    "    print(\"num is not divisible\")\n"
   ]
  },
  {
   "cell_type": "code",
   "execution_count": null,
   "id": "8f1557fc-2800-4300-bd9c-28aba3b5e792",
   "metadata": {},
   "outputs": [],
   "source": [
    "mutable objects can be changed after they are created ex list , dict , set"
   ]
  },
  {
   "cell_type": "code",
   "execution_count": null,
   "id": "26d241aa-e680-426f-92ac-948b48d278dc",
   "metadata": {},
   "outputs": [],
   "source": [
    "immutable objects are the ones that can not be changed after they are created ex str, int"
   ]
  }
 ],
 "metadata": {
  "kernelspec": {
   "display_name": "Python 3 (ipykernel)",
   "language": "python",
   "name": "python3"
  },
  "language_info": {
   "codemirror_mode": {
    "name": "ipython",
    "version": 3
   },
   "file_extension": ".py",
   "mimetype": "text/x-python",
   "name": "python",
   "nbconvert_exporter": "python",
   "pygments_lexer": "ipython3",
   "version": "3.10.8"
  }
 },
 "nbformat": 4,
 "nbformat_minor": 5
}
